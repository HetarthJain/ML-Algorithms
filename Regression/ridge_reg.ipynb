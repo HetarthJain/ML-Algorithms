{
 "cells": [
  {
   "cell_type": "code",
   "execution_count": null,
   "metadata": {},
   "outputs": [],
   "source": [
    "import pandas as pd\n",
    "import numpy as np\n",
    "from sklearn.model_selection import train_test_split"
   ]
  },
  {
   "cell_type": "code",
   "execution_count": null,
   "metadata": {},
   "outputs": [],
   "source": [
    "teams = pd.read_csv(\"./teams.csv\")\n",
    "teams"
   ]
  },
  {
   "cell_type": "code",
   "execution_count": null,
   "metadata": {},
   "outputs": [],
   "source": [
    "train, test = train_test_split(teams, test_size=.2, random_state=1)"
   ]
  },
  {
   "cell_type": "code",
   "execution_count": null,
   "metadata": {},
   "outputs": [],
   "source": [
    "predictors = [\"athletes\", \"events\"]\n",
    "target = \"medals\"\n",
    "X = train[predictors].copy()\n",
    "y = train[[target]].copy()"
   ]
  },
  {
   "cell_type": "code",
   "execution_count": null,
   "metadata": {},
   "outputs": [],
   "source": [
    "#scale x\n",
    "X_mean = X.mean()\n",
    "X_std = X.std()\n",
    "X = (X-X_mean) / X_std\n",
    "X"
   ]
  },
  {
   "cell_type": "code",
   "execution_count": null,
   "metadata": {},
   "outputs": [],
   "source": [
    "\n",
    "# building a new column intercept\n",
    "X[\"intercept\"] = 1\n",
    "X = X[[\"intercept\"] + predictors]\n",
    "# transpose\n",
    "X.T"
   ]
  },
  {
   "cell_type": "code",
   "execution_count": null,
   "metadata": {},
   "outputs": [],
   "source": [
    "alpha = 2\n",
    "# making an identity matrix\n",
    "I = np.identity(X.shape[1])\n",
    "# i = np.identity(3)\n",
    "I"
   ]
  },
  {
   "cell_type": "code",
   "execution_count": null,
   "metadata": {},
   "outputs": [],
   "source": [
    "I[0][0] = 0"
   ]
  },
  {
   "cell_type": "code",
   "execution_count": null,
   "metadata": {},
   "outputs": [],
   "source": [
    "penalty = alpha * I\n",
    "penalty"
   ]
  },
  {
   "cell_type": "code",
   "execution_count": null,
   "metadata": {},
   "outputs": [],
   "source": [
    "# @ is used for matrix multiplication\n",
    "# linalg is a module in numpy -> linear algebra\n",
    "# inv is inverse function\n",
    "Y = X.T @ X + penalty\n",
    "B = np.linalg.inv(Y) @ X.T @ y\n",
    "B"
   ]
  },
  {
   "cell_type": "code",
   "execution_count": null,
   "metadata": {},
   "outputs": [],
   "source": [
    "B.index = [\"intercept\",\"athletes\",\"events\"]\n",
    "B"
   ]
  },
  {
   "cell_type": "code",
   "execution_count": null,
   "metadata": {},
   "outputs": [],
   "source": [
    "#assigning the test variable the predictors\n",
    "test_X = test[predictors]\n",
    "test_X = (test_X - X_mean) / X_std\n",
    "test_X[\"intercept\"] = 1\n",
    "test_X = test_X[[\"intercept\"] + predictors]\n"
   ]
  },
  {
   "cell_type": "code",
   "execution_count": null,
   "metadata": {},
   "outputs": [],
   "source": [
    "# final predictionss.\n",
    "predictions = test_X @ B\n",
    "predictions"
   ]
  },
  {
   "cell_type": "code",
   "execution_count": null,
   "metadata": {},
   "outputs": [],
   "source": [
    "def ridge_fit(train, predictors, target, alpha):\n",
    "    X = train[predictors].copy()\n",
    "    y = train[[target]].copy()\n",
    "\n",
    "    X_mean = X.mean()\n",
    "    X_std = X.std()\n",
    "    X = (X-X_mean) / X_std\n",
    "\n",
    "    X[\"intercept\"] = 1  \n",
    "    X = X[[\"intercept\"] + predictors]\n",
    "\n",
    "    I = np.identity(X.shape[1])\n",
    "    penalty = alpha * I\n",
    "    penalty[0][0] = 0\n",
    "    \n",
    "    Y = X.T @ X + penalty\n",
    "    B = np.linalg.inv(Y) @ X.T @ y\n",
    "    B.index = [\"intercept\",\"athletes\",\"events\"]\n",
    "\n",
    "    return B, X_mean, X_std"
   ]
  },
  {
   "cell_type": "code",
   "execution_count": null,
   "metadata": {},
   "outputs": [],
   "source": [
    "def ridge_predict(test, predictors, x_mean, x_std, B):\n",
    "    test_X = test[predictors]\n",
    "    test_X = (test_X - x_mean) / x_std\n",
    "    test_X[\"intercept\"] = 1\n",
    "    test_X = test_X[[\"intercept\"] + predictors]\n",
    "    predictions1 = test_X @ B\n",
    "    return predictions1"
   ]
  }
 ],
 "metadata": {
  "kernelspec": {
   "display_name": "base",
   "language": "python",
   "name": "python3"
  },
  "language_info": {
   "codemirror_mode": {
    "name": "ipython",
    "version": 3
   },
   "file_extension": ".py",
   "mimetype": "text/x-python",
   "name": "python",
   "nbconvert_exporter": "python",
   "pygments_lexer": "ipython3",
   "version": "3.11.4"
  },
  "orig_nbformat": 4
 },
 "nbformat": 4,
 "nbformat_minor": 2
}
